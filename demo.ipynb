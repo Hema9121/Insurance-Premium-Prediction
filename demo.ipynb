{
 "cells": [
  {
   "cell_type": "code",
   "execution_count": 1,
   "metadata": {},
   "outputs": [
    {
     "data": {
      "text/plain": [
       "'c:\\\\Users\\\\dshem\\\\OneDrive\\\\Desktop\\\\projects\\\\project-2\\\\IPP-1'"
      ]
     },
     "execution_count": 1,
     "metadata": {},
     "output_type": "execute_result"
    }
   ],
   "source": [
    "import os\n",
    "os.getcwd()"
   ]
  },
  {
   "cell_type": "code",
   "execution_count": 24,
   "metadata": {},
   "outputs": [],
   "source": [
    "from sklearn import preprocessing\n",
    "from ipp.exception import InsuranceException\n",
    "from ipp.logger import logging\n",
    "from ipp.entity.config_entity import DataTransformationConfig \n",
    "from ipp.entity.artifact_entity import DataIngestionArtifact,DataValidationArtifact,DataTransformationArtifact\n",
    "import sys,os\n",
    "import numpy as np\n",
    "from ipp.constant import *\n",
    "from ipp.util.util import read_yaml_file,save_object,save_numpy_array_data,load_data\n",
    "\n",
    "#from sklearn.base import BaseEstimator,TransformerMixin\n",
    "from sklearn.compose import ColumnTransformer\n",
    "from sklearn.pipeline import Pipeline\n",
    "from sklearn.impute import SimpleImputer\n",
    "from sklearn.preprocessing import StandardScaler,OneHotEncoder\n",
    "\n",
    "\n",
    "class DataTransformation:\n",
    "    def __init__(self,\n",
    "               data_transformation_config: DataTransformationConfig,\n",
    "               data_ingestion_artifact: DataIngestionArtifact,\n",
    "               data_validation_artifact: DataValidationArtifact):\n",
    "        try:\n",
    "            logging.info(f\"{'**'*20}data transformation log started ! {'**'*20}\")\n",
    "            self.data_transformation_config=data_transformation_config\n",
    "            self.data_ingestion_artifact=data_ingestion_artifact\n",
    "            self.data_validation_artifact=data_validation_artifact\n",
    "\n",
    "        except Exception as e:\n",
    "            raise InsuranceException(e,sys) from e\n",
    "        \n",
    "    def get_data_transformer_obj(self)->ColumnTransformer:\n",
    "        try:\n",
    "            schema_file_path=self.data_validation_artifact.schema_file_path\n",
    "            #print(schema_file_path[0])\n",
    "            dataset_schema=read_yaml_file(file_path=schema_file_path)\n",
    "            #print(dataset_schema)\n",
    "\n",
    "            num_columns=dataset_schema[NUMERICAL_COLUMN_KEY]\n",
    "            cat_columns=dataset_schema[CATEGORICAL_COLUMN_KEY]\n",
    "            #print(num_columns,cat_columns)\n",
    "            num_pipeline=Pipeline(steps=[(\"imputer\",SimpleImputer(strategy='median')),\n",
    "                                        (\"scaler\",StandardScaler())\n",
    "                                        ])\n",
    "            \n",
    "            cat_pipeline=Pipeline(steps=[(\"imputer\",SimpleImputer(strategy='most_frequent')),\n",
    "                                         (\"encoder\",OneHotEncoder()),\n",
    "                                         (\"scaler\",StandardScaler(with_mean=False))\n",
    "                                        ])\n",
    "            \n",
    "            preprocessing=ColumnTransformer([(\"num_pipelene\",num_pipeline,num_columns),\n",
    "                                             (\"cat_pipeline\",cat_pipeline,cat_columns),\n",
    "                                            ])\n",
    "            return preprocessing\n",
    "        except Exception as e:\n",
    "            raise InsuranceException(e,sys) from e\n",
    "    \n",
    "data_trans=DataTransformation(data_ingestion_artifact=DataIngestionArtifact,data_transformation_config=DataTransformationConfig,data_validation_artifact=DataValidationArtifact)"
   ]
  },
  {
   "cell_type": "code",
   "execution_count": 27,
   "metadata": {},
   "outputs": [
    {
     "name": "stdout",
     "output_type": "stream",
     "text": [
      "{'columns': {'age': 'int', 'sex': 'category', 'bmi': 'float', 'children': 'int', 'smoker': 'category', 'region': 'category', 'expenses': 'float'}, 'numerical_columns': ['age', 'bmi', 'children', 'expenses'], 'categorical_columns': ['sex', 'smoker', 'region'], 'target_column': 'expenses', 'domain_value': {'region': ['southeast', 'southwest', 'northeast', 'northwest']}}\n"
     ]
    },
    {
     "ename": "InsuranceException",
     "evalue": "\n        Error occured in script: \n        [ C:\\Users\\dshem\\AppData\\Local\\Temp\\ipykernel_19432\\2185755444.py ] at \n        try block line number: [36] and exception block line number: [56] \n        error message: [\n        Error occured in script: \n        [ c:\\Users\\dshem\\OneDrive\\Desktop\\projects\\project-2\\IPP-1\\ipp\\util\\util.py ] at \n        try block line number: [15] and exception block line number: [18] \n        error message: [expected str, bytes or os.PathLike object, not _tuplegetter]\n        ]\n        ",
     "output_type": "error",
     "traceback": [
      "\u001b[1;31m---------------------------------------------------------------------------\u001b[0m",
      "\u001b[1;31mTypeError\u001b[0m                                 Traceback (most recent call last)",
      "File \u001b[1;32mc:\\Users\\dshem\\OneDrive\\Desktop\\projects\\project-2\\IPP-1\\ipp\\util\\util.py:15\u001b[0m, in \u001b[0;36mread_yaml_file\u001b[1;34m(file_path)\u001b[0m\n\u001b[0;32m     14\u001b[0m \u001b[38;5;28;01mtry\u001b[39;00m:\n\u001b[1;32m---> 15\u001b[0m     \u001b[38;5;28;01mwith\u001b[39;00m \u001b[38;5;28mopen\u001b[39m(file_path, \u001b[38;5;124m'\u001b[39m\u001b[38;5;124mrb\u001b[39m\u001b[38;5;124m'\u001b[39m) \u001b[38;5;28;01mas\u001b[39;00m yaml_file:\n\u001b[0;32m     16\u001b[0m         \u001b[38;5;28;01mreturn\u001b[39;00m yaml\u001b[38;5;241m.\u001b[39msafe_load(yaml_file)\n",
      "\u001b[1;31mTypeError\u001b[0m: expected str, bytes or os.PathLike object, not _tuplegetter",
      "\nThe above exception was the direct cause of the following exception:\n",
      "\u001b[1;31mInsuranceException\u001b[0m                        Traceback (most recent call last)",
      "Cell \u001b[1;32mIn[24], line 36\u001b[0m, in \u001b[0;36mDataTransformation.get_data_transformer_obj\u001b[1;34m(self)\u001b[0m\n\u001b[0;32m     35\u001b[0m \u001b[38;5;66;03m#print(schema_file_path[0])\u001b[39;00m\n\u001b[1;32m---> 36\u001b[0m dataset_schema\u001b[38;5;241m=\u001b[39m\u001b[43mread_yaml_file\u001b[49m\u001b[43m(\u001b[49m\u001b[43mfile_path\u001b[49m\u001b[38;5;241;43m=\u001b[39;49m\u001b[43mschema_file_path\u001b[49m\u001b[43m)\u001b[49m\n\u001b[0;32m     37\u001b[0m \u001b[38;5;66;03m#print(dataset_schema)\u001b[39;00m\n",
      "File \u001b[1;32mc:\\Users\\dshem\\OneDrive\\Desktop\\projects\\project-2\\IPP-1\\ipp\\util\\util.py:18\u001b[0m, in \u001b[0;36mread_yaml_file\u001b[1;34m(file_path)\u001b[0m\n\u001b[0;32m     17\u001b[0m \u001b[38;5;28;01mexcept\u001b[39;00m \u001b[38;5;167;01mException\u001b[39;00m \u001b[38;5;28;01mas\u001b[39;00m e:\n\u001b[1;32m---> 18\u001b[0m     \u001b[38;5;28;01mraise\u001b[39;00m InsuranceException(e,sys) \u001b[38;5;28;01mfrom\u001b[39;00m \u001b[38;5;21;01me\u001b[39;00m\n",
      "\u001b[1;31mInsuranceException\u001b[0m: \n        Error occured in script: \n        [ c:\\Users\\dshem\\OneDrive\\Desktop\\projects\\project-2\\IPP-1\\ipp\\util\\util.py ] at \n        try block line number: [15] and exception block line number: [18] \n        error message: [expected str, bytes or os.PathLike object, not _tuplegetter]\n        ",
      "\nThe above exception was the direct cause of the following exception:\n",
      "\u001b[1;31mInsuranceException\u001b[0m                        Traceback (most recent call last)",
      "Cell \u001b[1;32mIn[27], line 16\u001b[0m\n\u001b[0;32m     14\u001b[0m input_feature_train_df \u001b[38;5;241m=\u001b[39m train_df\u001b[38;5;241m.\u001b[39mdrop(columns\u001b[38;5;241m=\u001b[39m[target_column_name],axis\u001b[38;5;241m=\u001b[39m\u001b[38;5;241m1\u001b[39m)\n\u001b[0;32m     15\u001b[0m \u001b[38;5;66;03m#print(input_feature_train_df)\u001b[39;00m\n\u001b[1;32m---> 16\u001b[0m preprocessing_obj \u001b[38;5;241m=\u001b[39m \u001b[43mdata_trans\u001b[49m\u001b[38;5;241;43m.\u001b[39;49m\u001b[43mget_data_transformer_obj\u001b[49m\u001b[43m(\u001b[49m\u001b[43m)\u001b[49m\n\u001b[0;32m     18\u001b[0m input_feature_train_arr\u001b[38;5;241m=\u001b[39mpreprocessing_obj\u001b[38;5;241m.\u001b[39mfit_transform(input_feature_train_df)\n",
      "Cell \u001b[1;32mIn[24], line 56\u001b[0m, in \u001b[0;36mDataTransformation.get_data_transformer_obj\u001b[1;34m(self)\u001b[0m\n\u001b[0;32m     54\u001b[0m     \u001b[38;5;28;01mreturn\u001b[39;00m preprocessing\n\u001b[0;32m     55\u001b[0m \u001b[38;5;28;01mexcept\u001b[39;00m \u001b[38;5;167;01mException\u001b[39;00m \u001b[38;5;28;01mas\u001b[39;00m e:\n\u001b[1;32m---> 56\u001b[0m     \u001b[38;5;28;01mraise\u001b[39;00m InsuranceException(e,sys) \u001b[38;5;28;01mfrom\u001b[39;00m \u001b[38;5;21;01me\u001b[39;00m\n",
      "\u001b[1;31mInsuranceException\u001b[0m: \n        Error occured in script: \n        [ C:\\Users\\dshem\\AppData\\Local\\Temp\\ipykernel_19432\\2185755444.py ] at \n        try block line number: [36] and exception block line number: [56] \n        error message: [\n        Error occured in script: \n        [ c:\\Users\\dshem\\OneDrive\\Desktop\\projects\\project-2\\IPP-1\\ipp\\util\\util.py ] at \n        try block line number: [15] and exception block line number: [18] \n        error message: [expected str, bytes or os.PathLike object, not _tuplegetter]\n        ]\n        "
     ]
    }
   ],
   "source": [
    "from ipp.entity.artifact_entity import DataValidationArtifact,DataIngestionArtifact\n",
    "from ipp.util.util import read_yaml_file,load_data\n",
    "from ipp.constant import *\n",
    "data_ing=DataIngestionArtifact(train_file_path='C:\\\\Users\\\\dshem\\\\OneDrive\\\\Desktop\\\\projects\\\\project-2\\\\IPP-1\\\\Insurance\\\\artifact\\\\data_ingestion\\\\2024-03-02-09-27-20\\\\ingested_data\\\\train\\\\insurance.csv', test_file_path='C:\\\\Users\\\\dshem\\\\OneDrive\\\\Desktop\\\\projects\\\\project-2\\\\IPP-1\\\\Insurance\\\\artifact\\\\data_ingestion\\\\2024-03-02-09-27-20\\\\ingested_data\\\\test\\\\insurance.csv', is_ingested=True, message='Data ingestion completed successfully.')\n",
    "data_val=DataValidationArtifact(schema_file_path='C:\\\\Users\\\\dshem\\\\OneDrive\\\\Desktop\\\\projects\\\\project-2\\\\IPP-1\\\\config\\\\schema.yaml', report_file_path=None, report_page_file_path=None, is_validated=True, message='data validation performed successfully!')\n",
    "schema_file_path =data_val.schema_file_path\n",
    "train_file_path=data_ing.train_file_path\n",
    "schema = read_yaml_file(file_path=schema_file_path)\n",
    "print(schema)\n",
    "train_df = load_data(file_path=train_file_path, schema_file_path=schema_file_path)\n",
    "target_column_name = schema[TARGET_COLUMN_KEY]\n",
    "#train_df\n",
    "\n",
    "input_feature_train_df = train_df.drop(columns=[target_column_name],axis=1)\n",
    "#print(input_feature_train_df)\n",
    "preprocessing_obj = data_trans.get_data_transformer_obj()\n",
    "\n",
    "input_feature_train_arr=preprocessing_obj.fit_transform(input_feature_train_df)"
   ]
  },
  {
   "cell_type": "code",
   "execution_count": null,
   "metadata": {},
   "outputs": [],
   "source": []
  }
 ],
 "metadata": {
  "kernelspec": {
   "display_name": "Python 3",
   "language": "python",
   "name": "python3"
  },
  "language_info": {
   "codemirror_mode": {
    "name": "ipython",
    "version": 3
   },
   "file_extension": ".py",
   "mimetype": "text/x-python",
   "name": "python",
   "nbconvert_exporter": "python",
   "pygments_lexer": "ipython3",
   "version": "3.11.5"
  }
 },
 "nbformat": 4,
 "nbformat_minor": 2
}
